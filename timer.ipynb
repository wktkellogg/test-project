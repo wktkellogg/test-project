{
 "cells": [
  {
   "cell_type": "code",
   "execution_count": 2,
   "id": "ddcfdc45",
   "metadata": {},
   "outputs": [],
   "source": [
    "import time"
   ]
  },
  {
   "cell_type": "code",
   "execution_count": 3,
   "id": "4cbd4043",
   "metadata": {},
   "outputs": [],
   "source": [
    "# create a timer\n",
    "class Timer:\n",
    "    def __init__(self):\n",
    "        self.start_time = None\n",
    "        self.end_time = None\n",
    "\n",
    "    def start(self):\n",
    "        self.start_time = time.time()\n",
    "\n",
    "    def stop(self):\n",
    "        self.end_time = time.time()\n",
    "\n",
    "    def elapsed(self):\n",
    "        if self.start_time is None or self.end_time is None:\n",
    "            raise Exception(\"Timer has not been started or stopped.\")\n",
    "        return self.end_time - self.start_time\n",
    "\n",
    "    def reset(self):\n",
    "        self.start_time = None\n",
    "        self.end_time = None"
   ]
  },
  {
   "cell_type": "code",
   "execution_count": 4,
   "id": "17d0cadc",
   "metadata": {},
   "outputs": [],
   "source": [
    "# call the timer\n",
    "t = Timer()"
   ]
  },
  {
   "cell_type": "code",
   "execution_count": 5,
   "id": "465a98ea",
   "metadata": {},
   "outputs": [],
   "source": [
    "t.start()"
   ]
  },
  {
   "cell_type": "code",
   "execution_count": 7,
   "id": "3edab6ac",
   "metadata": {},
   "outputs": [
    {
     "data": {
      "text/plain": [
       "19.127730131149292"
      ]
     },
     "execution_count": 7,
     "metadata": {},
     "output_type": "execute_result"
    }
   ],
   "source": [
    "t.stop()\n",
    "t.elapsed()"
   ]
  },
  {
   "cell_type": "code",
   "execution_count": null,
   "id": "5d91fb32",
   "metadata": {},
   "outputs": [],
   "source": []
  }
 ],
 "metadata": {
  "kernelspec": {
   "display_name": "Python 3",
   "language": "python",
   "name": "python3"
  },
  "language_info": {
   "codemirror_mode": {
    "name": "ipython",
    "version": 3
   },
   "file_extension": ".py",
   "mimetype": "text/x-python",
   "name": "python",
   "nbconvert_exporter": "python",
   "pygments_lexer": "ipython3",
   "version": "3.13.3"
  }
 },
 "nbformat": 4,
 "nbformat_minor": 5
}
