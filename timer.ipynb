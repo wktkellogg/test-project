{
 "cells": [
  {
   "cell_type": "code",
   "execution_count": null,
   "id": "ddcfdc45",
   "metadata": {},
   "outputs": [
    {
     "name": "stdout",
     "output_type": "stream",
     "text": [
      "Time elapsed: 10 seconds\n",
      "Timer finished!\n"
     ]
    }
   ],
   "source": [
    "import time\n",
    "\n",
    "\n",
    "def count_up_timer(n):\n",
    "    for i in range(1, n + 1):\n",
    "        print(f\"Time elapsed: {i} seconds\", end=\"\\r\")\n",
    "        # print one dot per second\n",
    "        \n",
    "        time.sleep(1)\n",
    "    print(\"\\nTimer finished!\")\n",
    "\n",
    "\n",
    "# Example usage\n",
    "n = 10  # Replace with the desired number of seconds\n",
    "count_up_timer(n)"
   ]
  },
  {
   "cell_type": "code",
   "execution_count": null,
   "id": "861f679b",
   "metadata": {},
   "outputs": [],
   "source": []
  }
 ],
 "metadata": {
  "kernelspec": {
   "display_name": "Python 3",
   "language": "python",
   "name": "python3"
  },
  "language_info": {
   "codemirror_mode": {
    "name": "ipython",
    "version": 3
   },
   "file_extension": ".py",
   "mimetype": "text/x-python",
   "name": "python",
   "nbconvert_exporter": "python",
   "pygments_lexer": "ipython3",
   "version": "3.13.3"
  }
 },
 "nbformat": 4,
 "nbformat_minor": 5
}
