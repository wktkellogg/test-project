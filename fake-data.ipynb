{
 "cells": [
  {
   "cell_type": "markdown",
   "id": "7ad3314b",
   "metadata": {},
   "source": [
    "# Test"
   ]
  },
  {
   "cell_type": "code",
   "execution_count": 1,
   "id": "f6b7bd41",
   "metadata": {},
   "outputs": [
    {
     "name": "stdout",
     "output_type": "stream",
     "text": [
      "100 rows of fake data written to 'fake_data.csv'\n"
     ]
    }
   ],
   "source": [
    "from faker import Faker\n",
    "import csv\n",
    "\n",
    "# Initialize Faker\n",
    "fake = Faker()\n",
    "\n",
    "# Generate 100 rows of fake data\n",
    "data = [\n",
    "    {\"fname\": fake.first_name(), \"lname\": fake.last_name(), \"email\": fake.email()}\n",
    "    for _ in range(100)\n",
    "]\n",
    "\n",
    "# Write to a CSV file\n",
    "with open(\"fake_data.csv\", \"w\", newline=\"\") as csvfile:\n",
    "    fieldnames = [\"fname\", \"lname\", \"email\"]\n",
    "    writer = csv.DictWriter(csvfile, fieldnames=fieldnames)\n",
    "    writer.writeheader()\n",
    "    writer.writerows(data)\n",
    "\n",
    "print(\"100 rows of fake data written to 'fake_data.csv'\")"
   ]
  },
  {
   "cell_type": "code",
   "execution_count": 2,
   "id": "a2349cf8",
   "metadata": {},
   "outputs": [],
   "source": [
    "import pandas as pd"
   ]
  },
  {
   "cell_type": "code",
   "execution_count": 3,
   "id": "3988b656",
   "metadata": {},
   "outputs": [
    {
     "name": "stdout",
     "output_type": "stream",
     "text": [
      "      fname     lname                  email\n",
      "0   Kristen  Mcdaniel   philip95@example.net\n",
      "1     Carol  Peterson      fsosa@example.net\n",
      "2    Shelby      Horn     ehuynh@example.net\n",
      "3   Katrina     Fritz  michele36@example.com\n",
      "4  Kathleen   Rosales     tortiz@example.net\n"
     ]
    }
   ],
   "source": [
    "df = pd.read_csv(\"fake_data.csv\")\n",
    "print(df.head())"
   ]
  },
  {
   "cell_type": "markdown",
   "id": "7de4aafe",
   "metadata": {},
   "source": []
  }
 ],
 "metadata": {
  "kernelspec": {
   "display_name": "Python 3",
   "language": "python",
   "name": "python3"
  },
  "language_info": {
   "codemirror_mode": {
    "name": "ipython",
    "version": 3
   },
   "file_extension": ".py",
   "mimetype": "text/x-python",
   "name": "python",
   "nbconvert_exporter": "python",
   "pygments_lexer": "ipython3",
   "version": "3.13.3"
  }
 },
 "nbformat": 4,
 "nbformat_minor": 5
}
